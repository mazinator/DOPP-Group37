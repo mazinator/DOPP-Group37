{
 "cells": [
  {
   "cell_type": "code",
   "execution_count": null,
   "metadata": {},
   "outputs": [],
   "source": [
    "import warnings\n",
    "import pandas as pd\n",
    "import matplotlib.pyplot as plt\n",
    "import plotly.express as px\n",
    "import numpy as np\n",
    "import re\n",
    "import json\n",
    "import plotly.express as px\n",
    "import pandas as pd\n",
    "import seaborn as sns\n",
    "from sklearn.preprocessing import MinMaxScaler\n",
    "\n",
    "from functools import lru_cache"
   ]
  },
  {
   "cell_type": "code",
   "execution_count": 3,
   "metadata": {},
   "outputs": [],
   "source": [
    "\n",
    "# Electricity production capacities for renewables and wastes                    \n",
    "NRG_IND_REN = 'data/nrg_ind_ren_spreadsheet.xlsx'               # https://ec.europa.eu/eurostat/databrowser/view/nrg_ind_ren/default/table?lang=en \n",
    "# Share of energy from renewable sources \n",
    "NRG_INF_EPCRW = 'data/nrg_inf_epcrw_spreadsheet.xlsx'           # https://ec.europa.eu/eurostat/databrowser/view/nrg_inf_epcrw__custom_13973000/default/table?lang=en\n",
    "# Simplified energy balances           \n",
    "NRG_BAL_S = 'data/nrg_bal_s__custom_13973102_spreadsheet.xlsx'  # https://ec.europa.eu/eurostat/databrowser/view/nrg_bal_s__custom_13973102/default/table?lang=en\n",
    "# Supply and transformation of solid fossil fuels\n",
    "NRG_CB_SFFM = 'data/nrg_cb_sffm_spreadsheet.xlsx'               # https://ec.europa.eu/eurostat/databrowser/view/nrg_cb_sffm/default/table?lang=en \n",
    "# Electricity prices for household consumers          \n",
    "NRG_PC_204 = 'data/nrg_pc_204_spreadsheet.xlsx'                 # https://ec.europa.eu/eurostat/databrowser/view/nrg_pc_204/default/table?lang=en\n",
    "\n",
    "# Population by educational attainment level, sex and age\n",
    "EDAT_LFSE_03 = 'data/edat_lfse_03_spreadsheet.xlsx'             # https://ec.europa.eu/eurostat/databrowser/view/edat_lfse_03/default/table?lang=en\n",
    "# Gross domestic product at market prices\n",
    "TEC00001 = 'data/tec00001_page_spreadsheet.xlsx'                # https://ec.europa.eu/eurostat/databrowser/view/tec00001/default/table?lang=en"
   ]
  },
  {
   "cell_type": "code",
   "execution_count": 4,
   "metadata": {},
   "outputs": [],
   "source": [
    "@lru_cache\n",
    "def eurostat_dataset(path: str) -> pd.DataFrame:\n",
    "\n",
    "    # retrieve sheets data and metadata from Summary sheet\n",
    "    ## the time frequency and unit of measurement information \n",
    "    # is not a relevant index value since they are always the same\n",
    "    ignore = ['Time frequency', 'Unit of measure']\n",
    "    summary = pd.read_excel(\n",
    "        path, sheet_name='Summary', \n",
    "        usecols=lambda col: \\\n",
    "            not col.startswith('Unnamed') and col not in ignore,\n",
    "        index_col='Contents', skiprows=14\n",
    "    )\n",
    "\n",
    "    all = []\n",
    "\n",
    "    # iterate over data sheets and pre-process them\n",
    "    for sheet_name, config in summary.iterrows():\n",
    "\n",
    "        # the valuable information starts with the row containing \"TIME\" indicating the start of the data table\n",
    "        preview = pd.read_excel(path, sheet_name=sheet_name, usecols=[0])\n",
    "        header_row = preview[preview.iloc[:, 0] == 'TIME'].index[0]\n",
    "\n",
    "        data = pd.read_excel(\n",
    "            path, sheet_name=sheet_name,\n",
    "            usecols= lambda col: not str(col).startswith('Unnamed'),\n",
    "            na_values=':', skiprows=header_row + 1\n",
    "        )\n",
    "\n",
    "        # Remove the first row \"Geo (Label)\"\n",
    "        data = data.iloc[1:].reset_index(drop=True)\n",
    "\n",
    "        # some sheets contain additional meta-data at the end which are seperated by a NaN value row from the actual data\n",
    "        ## if we find such a row we remove all rows after\n",
    "        first_blank_row_index = data.isnull().all(axis=1).idxmax() if data.isnull().all(axis=1).any() else None\n",
    "        if first_blank_row_index is not None:\n",
    "            data = data.loc[:first_blank_row_index - 1]\n",
    "\n",
    "        # rename TIME to country\n",
    "        data.rename(columns={'TIME': 'Country'}, inplace=True)\n",
    "\n",
    "        # create multi-index based on config\n",
    "        config_df = pd.DataFrame([config] * len(data), index=data.index)\n",
    "        data = pd.concat([config_df, data], axis=1)\n",
    "        data.set_index(['Country'] + list(config_df.columns), inplace=True)\n",
    "\n",
    "        all.append(data)\n",
    "\n",
    "    # merge them into one multi-index data frame \n",
    "    all = pd.concat(all).sort_index()\n",
    "    \n",
    "    return all"
   ]
  },
  {
   "cell_type": "code",
   "execution_count": 69,
   "metadata": {},
   "outputs": [
    {
     "name": "stdout",
     "output_type": "stream",
     "text": [
      "27\n"
     ]
    }
   ],
   "source": [
    "EU_COUNTRIES = [\n",
    "    \"Austria\", \"Belgium\", \"Bulgaria\", \"Croatia\", \"Cyprus\", \"Czechia\", \"Denmark\", \"Estonia\", \"Finland\", \"France\",\n",
    "    \"Germany\", \"Greece\", \"Hungary\", \"Ireland\", \"Italy\", \"Latvia\", \"Lithuania\", \"Luxembourg\", \"Malta\", \"Netherlands\",\n",
    "    \"Poland\", \"Portugal\", \"Romania\", \"Slovakia\", \"Slovenia\", \"Spain\", \"Sweden\"\n",
    "]\n",
    "\n",
    "print(len(EU_COUNTRIES))"
   ]
  },
  {
   "cell_type": "code",
   "execution_count": 71,
   "metadata": {},
   "outputs": [],
   "source": [
    "# USER_AGENT = \"MyWikiScraper/1.0 (josef.taha@tuwien.ac.at)\"\n",
    "# wiki = wikipediaapi.Wikipedia(user_agent=USER_AGENT, language=\"en\")\n",
    "\n",
    "# OVERVIEW = { country: wiki.page(country) for country in EU_COUNTRIES }\n",
    "# ENERGY = { country: wiki.page(\"Renewable energy in \" + country) for country in EU_COUNTRIES }\n",
    "# EDUCATION = { country: wiki.page(\"Education in \" + country) for country in EU_COUNTRIES }\n",
    "# GEOGRPAHY = { country: wiki.page(\"Geography of \" + country) for country in EU_COUNTRIES }\n",
    "# POLITICS = { country: wiki.page(\"Politics of \" + country) for country in EU_COUNTRIES }\n",
    "\n",
    "# for country, page in ENERGY.items():\n",
    "#     if not page.exists():\n",
    "#         print(country)\n",
    "\n",
    "# ENERGY['Luxembourg'].title"
   ]
  },
  {
   "cell_type": "markdown",
   "metadata": {},
   "source": [
    "Creating  scores/ levels for renewable energy per country, as below."
   ]
  },
  {
   "cell_type": "code",
   "execution_count": 128,
   "metadata": {},
   "outputs": [
    {
     "data": {
      "text/html": [
       "<div>\n",
       "<style scoped>\n",
       "    .dataframe tbody tr th:only-of-type {\n",
       "        vertical-align: middle;\n",
       "    }\n",
       "\n",
       "    .dataframe tbody tr th {\n",
       "        vertical-align: top;\n",
       "    }\n",
       "\n",
       "    .dataframe thead th {\n",
       "        text-align: right;\n",
       "    }\n",
       "</style>\n",
       "<table border=\"1\" class=\"dataframe\">\n",
       "  <thead>\n",
       "    <tr style=\"text-align: right;\">\n",
       "      <th></th>\n",
       "      <th></th>\n",
       "      <th>latest</th>\n",
       "      <th>growth</th>\n",
       "      <th>volatility</th>\n",
       "      <th>score</th>\n",
       "      <th>level</th>\n",
       "    </tr>\n",
       "    <tr>\n",
       "      <th>Country</th>\n",
       "      <th>Energy balance</th>\n",
       "      <th></th>\n",
       "      <th></th>\n",
       "      <th></th>\n",
       "      <th></th>\n",
       "      <th></th>\n",
       "    </tr>\n",
       "  </thead>\n",
       "  <tbody>\n",
       "    <tr>\n",
       "      <th rowspan=\"4\" valign=\"top\">Austria</th>\n",
       "      <th>Renewable energy sources</th>\n",
       "      <td>0.533556</td>\n",
       "      <td>0.536384</td>\n",
       "      <td>0.594255</td>\n",
       "      <td>0.540757</td>\n",
       "      <td>8.0</td>\n",
       "    </tr>\n",
       "    <tr>\n",
       "      <th>Renewable energy sources in electricity</th>\n",
       "      <td>1.000000</td>\n",
       "      <td>0.376023</td>\n",
       "      <td>1.000000</td>\n",
       "      <td>0.750409</td>\n",
       "      <td>10.0</td>\n",
       "    </tr>\n",
       "    <tr>\n",
       "      <th>Renewable energy sources in heating and cooling</th>\n",
       "      <td>0.532463</td>\n",
       "      <td>0.343378</td>\n",
       "      <td>0.653015</td>\n",
       "      <td>0.468884</td>\n",
       "      <td>8.0</td>\n",
       "    </tr>\n",
       "    <tr>\n",
       "      <th>Renewable energy sources in transport</th>\n",
       "      <td>0.375481</td>\n",
       "      <td>0.336058</td>\n",
       "      <td>0.062017</td>\n",
       "      <td>0.328366</td>\n",
       "      <td>6.0</td>\n",
       "    </tr>\n",
       "    <tr>\n",
       "      <th>Belgium</th>\n",
       "      <th>Renewable energy sources</th>\n",
       "      <td>0.056998</td>\n",
       "      <td>0.321500</td>\n",
       "      <td>0.063250</td>\n",
       "      <td>0.163424</td>\n",
       "      <td>2.0</td>\n",
       "    </tr>\n",
       "    <tr>\n",
       "      <th>...</th>\n",
       "      <th>...</th>\n",
       "      <td>...</td>\n",
       "      <td>...</td>\n",
       "      <td>...</td>\n",
       "      <td>...</td>\n",
       "      <td>...</td>\n",
       "    </tr>\n",
       "    <tr>\n",
       "      <th>Spain</th>\n",
       "      <th>Renewable energy sources in transport</th>\n",
       "      <td>0.337377</td>\n",
       "      <td>0.416021</td>\n",
       "      <td>0.162041</td>\n",
       "      <td>0.351301</td>\n",
       "      <td>7.0</td>\n",
       "    </tr>\n",
       "    <tr>\n",
       "      <th rowspan=\"4\" valign=\"top\">Sweden</th>\n",
       "      <th>Renewable energy sources</th>\n",
       "      <td>1.000000</td>\n",
       "      <td>0.916735</td>\n",
       "      <td>0.346313</td>\n",
       "      <td>0.901325</td>\n",
       "      <td>10.0</td>\n",
       "    </tr>\n",
       "    <tr>\n",
       "      <th>Renewable energy sources in electricity</th>\n",
       "      <td>0.997183</td>\n",
       "      <td>0.592060</td>\n",
       "      <td>0.652753</td>\n",
       "      <td>0.800691</td>\n",
       "      <td>10.0</td>\n",
       "    </tr>\n",
       "    <tr>\n",
       "      <th>Renewable energy sources in heating and cooling</th>\n",
       "      <td>1.000000</td>\n",
       "      <td>0.389626</td>\n",
       "      <td>0.467275</td>\n",
       "      <td>0.702578</td>\n",
       "      <td>10.0</td>\n",
       "    </tr>\n",
       "    <tr>\n",
       "      <th>Renewable energy sources in transport</th>\n",
       "      <td>1.000000</td>\n",
       "      <td>1.000000</td>\n",
       "      <td>0.216047</td>\n",
       "      <td>0.921605</td>\n",
       "      <td>10.0</td>\n",
       "    </tr>\n",
       "  </tbody>\n",
       "</table>\n",
       "<p>108 rows × 5 columns</p>\n",
       "</div>"
      ],
      "text/plain": [
       "                                                           latest    growth  \\\n",
       "Country Energy balance                                                        \n",
       "Austria Renewable energy sources                         0.533556  0.536384   \n",
       "        Renewable energy sources in electricity          1.000000  0.376023   \n",
       "        Renewable energy sources in heating and cooling  0.532463  0.343378   \n",
       "        Renewable energy sources in transport            0.375481  0.336058   \n",
       "Belgium Renewable energy sources                         0.056998  0.321500   \n",
       "...                                                           ...       ...   \n",
       "Spain   Renewable energy sources in transport            0.337377  0.416021   \n",
       "Sweden  Renewable energy sources                         1.000000  0.916735   \n",
       "        Renewable energy sources in electricity          0.997183  0.592060   \n",
       "        Renewable energy sources in heating and cooling  1.000000  0.389626   \n",
       "        Renewable energy sources in transport            1.000000  1.000000   \n",
       "\n",
       "                                                         volatility     score  \\\n",
       "Country Energy balance                                                          \n",
       "Austria Renewable energy sources                           0.594255  0.540757   \n",
       "        Renewable energy sources in electricity            1.000000  0.750409   \n",
       "        Renewable energy sources in heating and cooling    0.653015  0.468884   \n",
       "        Renewable energy sources in transport              0.062017  0.328366   \n",
       "Belgium Renewable energy sources                           0.063250  0.163424   \n",
       "...                                                             ...       ...   \n",
       "Spain   Renewable energy sources in transport              0.162041  0.351301   \n",
       "Sweden  Renewable energy sources                           0.346313  0.901325   \n",
       "        Renewable energy sources in electricity            0.652753  0.800691   \n",
       "        Renewable energy sources in heating and cooling    0.467275  0.702578   \n",
       "        Renewable energy sources in transport              0.216047  0.921605   \n",
       "\n",
       "                                                         level  \n",
       "Country Energy balance                                          \n",
       "Austria Renewable energy sources                           8.0  \n",
       "        Renewable energy sources in electricity           10.0  \n",
       "        Renewable energy sources in heating and cooling    8.0  \n",
       "        Renewable energy sources in transport              6.0  \n",
       "Belgium Renewable energy sources                           2.0  \n",
       "...                                                        ...  \n",
       "Spain   Renewable energy sources in transport              7.0  \n",
       "Sweden  Renewable energy sources                          10.0  \n",
       "        Renewable energy sources in electricity           10.0  \n",
       "        Renewable energy sources in heating and cooling   10.0  \n",
       "        Renewable energy sources in transport             10.0  \n",
       "\n",
       "[108 rows x 5 columns]"
      ]
     },
     "execution_count": 128,
     "metadata": {},
     "output_type": "execute_result"
    }
   ],
   "source": [
    "energy_usage = eurostat_dataset(NRG_IND_REN)\n",
    "\n",
    "# filter out non-EU countries\n",
    "energy_usage = energy_usage.loc[energy_usage.index.get_level_values(0).isin(EU_COUNTRIES)]\n",
    "\n",
    "\n",
    "# normalize % values of renewable energy shares\n",
    "tmp = energy_usage.copy() / 100\n",
    "growth = tmp.apply(lambda row: (row.iloc[-1] - row.iloc[0]) / len(row), axis=1) # avg growth per year\n",
    "latest = tmp.iloc[:, -1] # latest shares\n",
    "volatility = tmp.diff(axis=1).std(axis=1)\n",
    "\n",
    "performance = pd.DataFrame({\"latest\": latest, \"growth\": growth, \"volatility\": volatility})\n",
    "\n",
    "# normalize per each \"energy balance\" to calculate overall performance score\n",
    "def normalize_per_sector(group):\n",
    "    scaler = MinMaxScaler()\n",
    "    return pd.DataFrame(scaler.fit_transform(group), index=group.index, columns=group.columns)\n",
    "\n",
    "performance = performance.groupby(level=1, group_keys=False).apply(normalize_per_sector)\n",
    "\n",
    "performance[\"score\"] = (\n",
    "    0.5 * performance[\"latest\"] + \n",
    "    0.4 * performance[\"growth\"] +\n",
    "    0.1 * performance[\"volatility\"] * (performance[\"growth\"] > 0.05).astype(float)\n",
    ")\n",
    "\n",
    "performance[\"level\"] = pd.qcut(performance[\"score\"], 10, labels=range(1, 11), duplicates=\"drop\").astype(float)\n",
    "performance"
   ]
  },
  {
   "cell_type": "markdown",
   "metadata": {},
   "source": [
    "Luxemburg got the worst ranking EU wide, which seemed to be reasonable due to its high usage of coal and fossil fuel for electricity and import of electricity from outside according to Wikipedia. Funfact: Czechia, Ireland and Louxemburg are the only countries that have no \"renewable energy entry\"  wikipedia page."
   ]
  },
  {
   "cell_type": "code",
   "execution_count": 129,
   "metadata": {},
   "outputs": [
    {
     "data": {
      "image/png": "[encoded data removed]",
      "text/plain": [
       "<Figure size 2000x600 with 4 Axes>"
      ]
     },
     "metadata": {},
     "output_type": "display_data"
    }
   ],
   "source": [
    "fig, axes = plt.subplots(1, 4, figsize=(20, 6), sharey=True, constrained_layout=True)\n",
    "levels = performance['level'].unstack(level=1)\n",
    "\n",
    "for idx, sector in enumerate(levels.columns):\n",
    "    sector_ranking = levels[sector].sort_values(ascending=False)\n",
    "    sns.barplot(\n",
    "        x=sector_ranking.values, \n",
    "        y=sector_ranking.index, \n",
    "        palette=\"Blues_r\",\n",
    "        hue=sector_ranking.index,\n",
    "        ax=axes[idx]\n",
    "    )\n",
    "\n",
    "    axes[idx].set_title(sector, fontsize=12)\n",
    "    axes[idx].set_xlabel(\"Adoption Level\")\n",
    "    axes[idx].set_ylabel(\"\")\n",
    "\n",
    "fig.suptitle(\"Renewable Energy Adoption Rankings by Sector\", fontsize=16, y=1.05)\n",
    "plt.show()"
   ]
  },
  {
   "cell_type": "code",
   "execution_count": null,
   "metadata": {},
   "outputs": [
    {
     "data": {
      "application/vnd.plotly.v1+json": {
       "config": {
        "plotlyServerURL": "https://plot.ly"
       },
       "data": [
        {
         "colorscale": [
          [
           0,
           "rgb(228,26,28)"
          ],
          [
           1,
           "rgb(228,26,28)"
          ]
         ],
         "geo": "geo",
         "hovertemplate": "Sector=Renewable energy sources<br>Country=%{location}<extra></extra>",
         "locationmode": "country names",
         "locations": [
          "Austria",
          "Denmark",
          "Estonia",
          "Finland",
          "Latvia",
          "Portugal",
          "Sweden"
         ],
         "name": "Renewable energy sources",
         "showlegend": true,
         "showscale": false,
         "type": "choropleth",
         "z": [
          1,
          1,
          1,
          1,
          1,
          1,
          1
         ]
        },
        {
         "colorscale": [
          [
           0,
           "rgb(55,126,184)"
          ],
          [
           1,
           "rgb(55,126,184)"
          ]
         ],
         "geo": "geo",
         "hovertemplate": "Sector=Renewable energy sources in electricity<br>Country=%{location}<extra></extra>",
         "locationmode": "country names",
         "locations": [
          "Austria",
          "Croatia",
          "Denmark",
          "Finland",
          "Germany",
          "Greece",
          "Ireland",
          "Lithuania",
          "Netherlands",
          "Portugal",
          "Spain",
          "Sweden"
         ],
         "name": "Renewable energy sources in electricity",
         "showlegend": true,
         "showscale": false,
         "type": "choropleth",
         "z": [
          1,
          1,
          1,
          1,
          1,
          1,
          1,
          1,
          1,
          1,
          1,
          1
         ]
        },
        {
         "colorscale": [
          [
           0,
           "rgb(77,175,74)"
          ],
          [
           1,
           "rgb(77,175,74)"
          ]
         ],
         "geo": "geo",
         "hovertemplate": "Sector=Renewable energy sources in heating and cooling<br>Country=%{location}<extra></extra>",
         "locationmode": "country names",
         "locations": [
          "Austria",
          "Bulgaria",
          "Cyprus",
          "Denmark",
          "Estonia",
          "Finland",
          "Greece",
          "Latvia",
          "Lithuania",
          "Malta",
          "Portugal",
          "Sweden"
         ],
         "name": "Renewable energy sources in heating and cooling",
         "showlegend": true,
         "showscale": false,
         "type": "choropleth",
         "z": [
          1,
          1,
          1,
          1,
          1,
          1,
          1,
          1,
          1,
          1,
          1,
          1
         ]
        },
        {
         "colorscale": [
          [
           0,
           "rgb(152,78,163)"
          ],
          [
           1,
           "rgb(152,78,163)"
          ]
         ],
         "geo": "geo",
         "hovertemplate": "Sector=Renewable energy sources in transport<br>Country=%{location}<extra></extra>",
         "locationmode": "country names",
         "locations": [
          "Finland",
          "Sweden"
         ],
         "name": "Renewable energy sources in transport",
         "showlegend": true,
         "showscale": false,
         "type": "choropleth",
         "z": [
          1,
          1
         ]
        }
       ],
       "layout": {
        "geo": {
         "center": {},
         "domain": {
          "x": [
           0,
           1
          ],
          "y": [
           0,
           1
          ]
         },
         "projection": {
          "type": "natural earth"
         },
         "scope": "europe"
        },
        "legend": {
         "title": {
          "text": "Sector"
         },
         "tracegroupgap": 0
        },
        "margin": {
         "b": 0,
         "l": 0,
         "r": 0,
         "t": 0
        },
        "template": {
         "data": {
          "bar": [
           {
            "error_x": {
             "color": "#2a3f5f"
            },
            "error_y": {
             "color": "#2a3f5f"
            },
            "marker": {
             "line": {
              "color": "#E5ECF6",
              "width": 0.5
             },
             "pattern": {
              "fillmode": "overlay",
              "size": 10,
              "solidity": 0.2
             }
            },
            "type": "bar"
           }
          ],
          "barpolar": [
           {
            "marker": {
             "line": {
              "color": "#E5ECF6",
              "width": 0.5
             },
             "pattern": {
              "fillmode": "overlay",
              "size": 10,
              "solidity": 0.2
             }
            },
            "type": "barpolar"
           }
          ],
          "carpet": [
           {
            "aaxis": {
             "endlinecolor": "#2a3f5f",
             "gridcolor": "white",
             "linecolor": "white",
             "minorgridcolor": "white",
             "startlinecolor": "#2a3f5f"
            },
            "baxis": {
             "endlinecolor": "#2a3f5f",
             "gridcolor": "white",
             "linecolor": "white",
             "minorgridcolor": "white",
             "startlinecolor": "#2a3f5f"
            },
            "type": "carpet"
           }
          ],
          "choropleth": [
           {
            "colorbar": {
             "outlinewidth": 0,
             "ticks": ""
            },
            "type": "choropleth"
           }
          ],
          "contour": [
           {
            "colorbar": {
             "outlinewidth": 0,
             "ticks": ""
            },
            "colorscale": [
             [
              0,
              "#0d0887"
             ],
             [
              0.1111111111111111,
              "#46039f"
             ],
             [
              0.2222222222222222,
              "#7201a8"
             ],
             [
              0.3333333333333333,
              "#9c179e"
             ],
             [
              0.4444444444444444,
              "#bd3786"
             ],
             [
              0.5555555555555556,
              "#d8576b"
             ],
             [
              0.6666666666666666,
              "#ed7953"
             ],
             [
              0.7777777777777778,
              "#fb9f3a"
             ],
             [
              0.8888888888888888,
              "#fdca26"
             ],
             [
              1,
              "#f0f921"
             ]
            ],
            "type": "contour"
           }
          ],
          "contourcarpet": [
           {
            "colorbar": {
             "outlinewidth": 0,
             "ticks": ""
            },
            "type": "contourcarpet"
           }
          ],
          "heatmap": [
           {
            "colorbar": {
             "outlinewidth": 0,
             "ticks": ""
            },
            "colorscale": [
             [
              0,
              "#0d0887"
             ],
             [
              0.1111111111111111,
              "#46039f"
             ],
             [
              0.2222222222222222,
              "#7201a8"
             ],
             [
              0.3333333333333333,
              "#9c179e"
             ],
             [
              0.4444444444444444,
              "#bd3786"
             ],
             [
              0.5555555555555556,
              "#d8576b"
             ],
             [
              0.6666666666666666,
              "#ed7953"
             ],
             [
              0.7777777777777778,
              "#fb9f3a"
             ],
             [
              0.8888888888888888,
              "#fdca26"
             ],
             [
              1,
              "#f0f921"
             ]
            ],
            "type": "heatmap"
           }
          ],
          "heatmapgl": [
           {
            "colorbar": {
             "outlinewidth": 0,
             "ticks": ""
            },
            "colorscale": [
             [
              0,
              "#0d0887"
             ],
             [
              0.1111111111111111,
              "#46039f"
             ],
             [
              0.2222222222222222,
              "#7201a8"
             ],
             [
              0.3333333333333333,
              "#9c179e"
             ],
             [
              0.4444444444444444,
              "#bd3786"
             ],
             [
              0.5555555555555556,
              "#d8576b"
             ],
             [
              0.6666666666666666,
              "#ed7953"
             ],
             [
              0.7777777777777778,
              "#fb9f3a"
             ],
             [
              0.8888888888888888,
              "#fdca26"
             ],
             [
              1,
              "#f0f921"
             ]
            ],
            "type": "heatmapgl"
           }
          ],
          "histogram": [
           {
            "marker": {
             "pattern": {
              "fillmode": "overlay",
              "size": 10,
              "solidity": 0.2
             }
            },
            "type": "histogram"
           }
          ],
          "histogram2d": [
           {
            "colorbar": {
             "outlinewidth": 0,
             "ticks": ""
            },
            "colorscale": [
             [
              0,
              "#0d0887"
             ],
             [
              0.1111111111111111,
              "#46039f"
             ],
             [
              0.2222222222222222,
              "#7201a8"
             ],
             [
              0.3333333333333333,
              "#9c179e"
             ],
             [
              0.4444444444444444,
              "#bd3786"
             ],
             [
              0.5555555555555556,
              "#d8576b"
             ],
             [
              0.6666666666666666,
              "#ed7953"
             ],
             [
              0.7777777777777778,
              "#fb9f3a"
             ],
             [
              0.8888888888888888,
              "#fdca26"
             ],
             [
              1,
              "#f0f921"
             ]
            ],
            "type": "histogram2d"
           }
          ],
          "histogram2dcontour": [
           {
            "colorbar": {
             "outlinewidth": 0,
             "ticks": ""
            },
            "colorscale": [
             [
              0,
              "#0d0887"
             ],
             [
              0.1111111111111111,
              "#46039f"
             ],
             [
              0.2222222222222222,
              "#7201a8"
             ],
             [
              0.3333333333333333,
              "#9c179e"
             ],
             [
              0.4444444444444444,
              "#bd3786"
             ],
             [
              0.5555555555555556,
              "#d8576b"
             ],
             [
              0.6666666666666666,
              "#ed7953"
             ],
             [
              0.7777777777777778,
              "#fb9f3a"
             ],
             [
              0.8888888888888888,
              "#fdca26"
             ],
             [
              1,
              "#f0f921"
             ]
            ],
            "type": "histogram2dcontour"
           }
          ],
          "mesh3d": [
           {
            "colorbar": {
             "outlinewidth": 0,
             "ticks": ""
            },
            "type": "mesh3d"
           }
          ],
          "parcoords": [
           {
            "line": {
             "colorbar": {
              "outlinewidth": 0,
              "ticks": ""
             }
            },
            "type": "parcoords"
           }
          ],
          "pie": [
           {
            "automargin": true,
            "type": "pie"
           }
          ],
          "scatter": [
           {
            "fillpattern": {
             "fillmode": "overlay",
             "size": 10,
             "solidity": 0.2
            },
            "type": "scatter"
           }
          ],
          "scatter3d": [
           {
            "line": {
             "colorbar": {
              "outlinewidth": 0,
              "ticks": ""
             }
            },
            "marker": {
             "colorbar": {
              "outlinewidth": 0,
              "ticks": ""
             }
            },
            "type": "scatter3d"
           }
          ],
          "scattercarpet": [
           {
            "marker": {
             "colorbar": {
              "outlinewidth": 0,
              "ticks": ""
             }
            },
            "type": "scattercarpet"
           }
          ],
          "scattergeo": [
           {
            "marker": {
             "colorbar": {
              "outlinewidth": 0,
              "ticks": ""
             }
            },
            "type": "scattergeo"
           }
          ],
          "scattergl": [
           {
            "marker": {
             "colorbar": {
              "outlinewidth": 0,
              "ticks": ""
             }
            },
            "type": "scattergl"
           }
          ],
          "scattermapbox": [
           {
            "marker": {
             "colorbar": {
              "outlinewidth": 0,
              "ticks": ""
             }
            },
            "type": "scattermapbox"
           }
          ],
          "scatterpolar": [
           {
            "marker": {
             "colorbar": {
              "outlinewidth": 0,
              "ticks": ""
             }
            },
            "type": "scatterpolar"
           }
          ],
          "scatterpolargl": [
           {
            "marker": {
             "colorbar": {
              "outlinewidth": 0,
              "ticks": ""
             }
            },
            "type": "scatterpolargl"
           }
          ],
          "scatterternary": [
           {
            "marker": {
             "colorbar": {
              "outlinewidth": 0,
              "ticks": ""
             }
            },
            "type": "scatterternary"
           }
          ],
          "surface": [
           {
            "colorbar": {
             "outlinewidth": 0,
             "ticks": ""
            },
            "colorscale": [
             [
              0,
              "#0d0887"
             ],
             [
              0.1111111111111111,
              "#46039f"
             ],
             [
              0.2222222222222222,
              "#7201a8"
             ],
             [
              0.3333333333333333,
              "#9c179e"
             ],
             [
              0.4444444444444444,
              "#bd3786"
             ],
             [
              0.5555555555555556,
              "#d8576b"
             ],
             [
              0.6666666666666666,
              "#ed7953"
             ],
             [
              0.7777777777777778,
              "#fb9f3a"
             ],
             [
              0.8888888888888888,
              "#fdca26"
             ],
             [
              1,
              "#f0f921"
             ]
            ],
            "type": "surface"
           }
          ],
          "table": [
           {
            "cells": {
             "fill": {
              "color": "#EBF0F8"
             },
             "line": {
              "color": "white"
             }
            },
            "header": {
             "fill": {
              "color": "#C8D4E3"
             },
             "line": {
              "color": "white"
             }
            },
            "type": "table"
           }
          ]
         },
         "layout": {
          "annotationdefaults": {
           "arrowcolor": "#2a3f5f",
           "arrowhead": 0,
           "arrowwidth": 1
          },
          "autotypenumbers": "strict",
          "coloraxis": {
           "colorbar": {
            "outlinewidth": 0,
            "ticks": ""
           }
          },
          "colorscale": {
           "diverging": [
            [
             0,
             "#8e0152"
            ],
            [
             0.1,
             "#c51b7d"
            ],
            [
             0.2,
             "#de77ae"
            ],
            [
             0.3,
             "#f1b6da"
            ],
            [
             0.4,
             "#fde0ef"
            ],
            [
             0.5,
             "#f7f7f7"
            ],
            [
             0.6,
             "#e6f5d0"
            ],
            [
             0.7,
             "#b8e186"
            ],
            [
             0.8,
             "#7fbc41"
            ],
            [
             0.9,
             "#4d9221"
            ],
            [
             1,
             "#276419"
            ]
           ],
           "sequential": [
            [
             0,
             "#0d0887"
            ],
            [
             0.1111111111111111,
             "#46039f"
            ],
            [
             0.2222222222222222,
             "#7201a8"
            ],
            [
             0.3333333333333333,
             "#9c179e"
            ],
            [
             0.4444444444444444,
             "#bd3786"
            ],
            [
             0.5555555555555556,
             "#d8576b"
            ],
            [
             0.6666666666666666,
             "#ed7953"
            ],
            [
             0.7777777777777778,
             "#fb9f3a"
            ],
            [
             0.8888888888888888,
             "#fdca26"
            ],
            [
             1,
             "#f0f921"
            ]
           ],
           "sequentialminus": [
            [
             0,
             "#0d0887"
            ],
            [
             0.1111111111111111,
             "#46039f"
            ],
            [
             0.2222222222222222,
             "#7201a8"
            ],
            [
             0.3333333333333333,
             "#9c179e"
            ],
            [
             0.4444444444444444,
             "#bd3786"
            ],
            [
             0.5555555555555556,
             "#d8576b"
            ],
            [
             0.6666666666666666,
             "#ed7953"
            ],
            [
             0.7777777777777778,
             "#fb9f3a"
            ],
            [
             0.8888888888888888,
             "#fdca26"
            ],
            [
             1,
             "#f0f921"
            ]
           ]
          },
          "colorway": [
           "#636efa",
           "#EF553B",
           "#00cc96",
           "#ab63fa",
           "#FFA15A",
           "#19d3f3",
           "#FF6692",
           "#B6E880",
           "#FF97FF",
           "#FECB52"
          ],
          "font": {
           "color": "#2a3f5f"
          },
          "geo": {
           "bgcolor": "white",
           "lakecolor": "white",
           "landcolor": "#E5ECF6",
           "showlakes": true,
           "showland": true,
           "subunitcolor": "white"
          },
          "hoverlabel": {
           "align": "left"
          },
          "hovermode": "closest",
          "mapbox": {
           "style": "light"
          },
          "paper_bgcolor": "white",
          "plot_bgcolor": "#E5ECF6",
          "polar": {
           "angularaxis": {
            "gridcolor": "white",
            "linecolor": "white",
            "ticks": ""
           },
           "bgcolor": "#E5ECF6",
           "radialaxis": {
            "gridcolor": "white",
            "linecolor": "white",
            "ticks": ""
           }
          },
          "scene": {
           "xaxis": {
            "backgroundcolor": "#E5ECF6",
            "gridcolor": "white",
            "gridwidth": 2,
            "linecolor": "white",
            "showbackground": true,
            "ticks": "",
            "zerolinecolor": "white"
           },
           "yaxis": {
            "backgroundcolor": "#E5ECF6",
            "gridcolor": "white",
            "gridwidth": 2,
            "linecolor": "white",
            "showbackground": true,
            "ticks": "",
            "zerolinecolor": "white"
           },
           "zaxis": {
            "backgroundcolor": "#E5ECF6",
            "gridcolor": "white",
            "gridwidth": 2,
            "linecolor": "white",
            "showbackground": true,
            "ticks": "",
            "zerolinecolor": "white"
           }
          },
          "shapedefaults": {
           "line": {
            "color": "#2a3f5f"
           }
          },
          "ternary": {
           "aaxis": {
            "gridcolor": "white",
            "linecolor": "white",
            "ticks": ""
           },
           "baxis": {
            "gridcolor": "white",
            "linecolor": "white",
            "ticks": ""
           },
           "bgcolor": "#E5ECF6",
           "caxis": {
            "gridcolor": "white",
            "linecolor": "white",
            "ticks": ""
           }
          },
          "title": {
           "x": 0.05
          },
          "xaxis": {
           "automargin": true,
           "gridcolor": "white",
           "linecolor": "white",
           "ticks": "",
           "title": {
            "standoff": 15
           },
           "zerolinecolor": "white",
           "zerolinewidth": 2
          },
          "yaxis": {
           "automargin": true,
           "gridcolor": "white",
           "linecolor": "white",
           "ticks": "",
           "title": {
            "standoff": 15
           },
           "zerolinecolor": "white",
           "zerolinewidth": 2
          }
         }
        },
        "title": {
         "text": "Countries with Renewable Energy Adoption Level > 7"
        }
       }
      }
     },
     "metadata": {},
     "output_type": "display_data"
    }
   ],
   "source": [
    "levels = performance['level'].unstack(level=1)\n",
    "sector_ranking = levels.reset_index().melt(id_vars=\"Country\", var_name=\"Sector\", value_name=\"Level\")\n",
    "sector_ranking = sector_ranking[sector_ranking[\"Level\"] > 7]\n",
    "\n",
    "fig = px.choropleth(\n",
    "    sector_ranking,\n",
    "    locations=\"Country\",\n",
    "    locationmode=\"country names\",\n",
    "    color=\"Sector\",\n",
    "    projection=\"natural earth\",\n",
    "    scope=\"europe\",\n",
    "    title=\"Countries with Renewable Energy Adoption Level > 7\",\n",
    "    color_discrete_sequence=px.colors.qualitative.Set1\n",
    ")\n",
    "\n",
    "fig.update_layout(margin={\"r\": 0, \"t\": 0, \"l\": 0, \"b\": 0})\n",
    "fig.show()"
   ]
  },
  {
   "cell_type": "code",
   "execution_count": 124,
   "metadata": {},
   "outputs": [
    {
     "data": {
      "image/png": "[encoded data removed]",
      "text/plain": [
       "<Figure size 1000x400 with 2 Axes>"
      ]
     },
     "metadata": {},
     "output_type": "display_data"
    }
   ],
   "source": [
    "countries_to_compare = (\"Sweden\", \"Luxembourg\")\n",
    "comparison_data = energy_usage.loc[energy_usage.index.get_level_values(0).isin(countries_to_compare)]\n",
    "\n",
    "fig, axes = plt.subplots(nrows=1, ncols=2, figsize=(10, 4), sharex=True, sharey=True)\n",
    "axes = axes.flatten()\n",
    "\n",
    "for idx, country in enumerate(countries_to_compare):\n",
    "    country_data = comparison_data.loc[country]\n",
    "    \n",
    "    country_data.T.plot(kind='area', stacked=True, alpha=0.7, ax=axes[idx], legend=False)\n",
    "    \n",
    "    axes[idx].set_ylabel(\"Energy Adoption (%)\", fontsize=10)\n",
    "    axes[idx].grid(axis='y', linestyle='--', alpha=0.7)\n",
    "\n",
    "handles, labels = axes[0].get_legend_handles_labels()\n",
    "fig.legend(handles, labels, bbox_to_anchor=(0.97, 0.8), fontsize=10)\n",
    "\n",
    "plt.tight_layout()\n",
    "plt.suptitle(\"Renewable Energy Trends Sweden vs. Luxembourg\", fontsize=16, y=1.02)\n",
    "plt.show()"
   ]
  }
 ],
 "metadata": {
  "kernelspec": {
   "display_name": "test",
   "language": "python",
   "name": "python3"
  },
  "language_info": {
   "codemirror_mode": {
    "name": "ipython",
    "version": 3
   },
   "file_extension": ".py",
   "mimetype": "text/x-python",
   "name": "python",
   "nbconvert_exporter": "python",
   "pygments_lexer": "ipython3",
   "version": "3.12.8"
  }
 },
 "nbformat": 4,
 "nbformat_minor": 2
}
